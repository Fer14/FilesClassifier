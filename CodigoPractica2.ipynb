{
 "cells": [
  {
   "cell_type": "markdown",
   "metadata": {},
   "source": [
    "# Práctica 2 Ingeniería Linguística"
   ]
  },
  {
   "cell_type": "code",
   "execution_count": 20,
   "metadata": {},
   "outputs": [],
   "source": [
    "from sklearn.feature_extraction.text import CountVectorizer,TfidfTransformer,TfidfVectorizer\n",
    "from sklearn.naive_bayes import MultinomialNB\n",
    "from sklearn.neighbors import KNeighborsClassifier\n",
    "from sklearn.svm import LinearSVC\n",
    "from sklearn.linear_model import SGDClassifier\n",
    "from sklearn.datasets import load_files\n",
    "import numpy as np\n",
    "import pandas as pd\n",
    "from sklearn.metrics import classification_report, confusion_matrix, accuracy_score, mean_absolute_error\n",
    "from sklearn.model_selection import train_test_split\n",
    "import re\n",
    "import nltk\n",
    "import os\n",
    "import shutil\n",
    "import glob\n"
   ]
  },
  {
   "cell_type": "code",
   "execution_count": 64,
   "metadata": {},
   "outputs": [],
   "source": [
    "file = open(\"./Glosarios/glosario_all.txt\",encoding='utf-8')\n",
    "glosario = file.read().split(\"\\n\")"
   ]
  },
  {
   "cell_type": "code",
   "execution_count": 70,
   "metadata": {},
   "outputs": [
    {
     "name": "stdout",
     "output_type": "stream",
     "text": [
      "['asma', 'defectos', 'medicamentos', 'niños', 'salud', 'personas', 'azúcar', 'caso', 'estudio', 'riesgo', 'medicación', 'embarazo', 'cirujía', 'síntomas', 'dolor', 'mujeres', 'enfermedad', 'problema', 'factores', 'asociación', 'productos', 'artículo', 'artículos', 'ley', 'psoe', 'pp', 'economía', 'reforma', 'mayoría', 'constitución', 'debate', 'española', 'congreso', 'comisión', 'país', 'derecho', 'presidente', 'propuesta', 'rey', 'laboral', 'política', 'gobierno', 'ganar', 'derbi', 'real madrid', 'madrid', 'atlético de madrid', 'barcelona', 'olímpicos', 'final', 'rival', 'balón', 'deportivo', 'penalti', 'liga', 'fútbol', 'equipo', 'aficionados', 'futbolistas', 'torneo', 'temporada', 'minutos', 'gol']\n"
     ]
    }
   ],
   "source": [
    "glosario_ = []\n",
    "for x in glosario:\n",
    "    glosario_.append(x.lower())\n",
    "    \n",
    "glosario = glosario_\n",
    "print(glosario)"
   ]
  },
  {
   "cell_type": "code",
   "execution_count": 71,
   "metadata": {},
   "outputs": [],
   "source": [
    "articles = load_files(r\"./Documentos/\",encoding='utf-8')\n",
    "X, y = articles.data, articles.target"
   ]
  },
  {
   "cell_type": "code",
   "execution_count": 72,
   "metadata": {},
   "outputs": [
    {
     "name": "stdout",
     "output_type": "stream",
     "text": [
      "90\n",
      "90\n",
      "[0 0 1 1 2 1 1 1 2 2 0 0 1 2 0 0 0 1 2 1 0 0 2 1 2 1 2 2 2 0 2 2 0 0 1 1 2\n",
      " 1 1 0 0 0 1 1 0 2 2 0 1 0 0 1 0 1 0 1 2 1 2 0 1 2 0 2 0 0 1 2 2 2 0 2 2 0\n",
      " 1 1 1 2 1 0 2 1 0 2 0 2 2 2 1 1]\n"
     ]
    }
   ],
   "source": [
    "print(len(y))\n",
    "print(len(X))\n",
    "print(y)"
   ]
  },
  {
   "cell_type": "code",
   "execution_count": 73,
   "metadata": {},
   "outputs": [],
   "source": [
    "documents = []\n",
    "for d in range(0, len(X)):\n",
    "    document = re.sub(r'\\W', ' ', str(X[d]))\n",
    "    document = document.lower()\n",
    "    documents.append(document)"
   ]
  },
  {
   "cell_type": "code",
   "execution_count": 74,
   "metadata": {},
   "outputs": [
    {
     "name": "stdout",
     "output_type": "stream",
     "text": [
      "['asma', 'defectos', 'medicamentos', 'niños', 'salud', 'personas', 'azúcar', 'caso', 'estudio', 'riesgo', 'medicación', 'embarazo', 'cirujía', 'síntomas', 'dolor', 'mujeres', 'enfermedad', 'problema', 'factores', 'asociación', 'productos', 'artículo', 'artículos', 'ley', 'psoe', 'pp', 'economía', 'reforma', 'mayoría', 'constitución', 'debate', 'española', 'congreso', 'comisión', 'país', 'derecho', 'presidente', 'propuesta', 'rey', 'laboral', 'política', 'gobierno', 'ganar', 'derbi', 'real madrid', 'madrid', 'atlético de madrid', 'barcelona', 'olímpicos', 'final', 'rival', 'balón', 'deportivo', 'penalti', 'liga', 'fútbol', 'equipo', 'aficionados', 'futbolistas', 'torneo', 'temporada', 'minutos', 'gol']\n"
     ]
    }
   ],
   "source": [
    "vectorizer_ = CountVectorizer(vocabulary = glosario,ngram_range=(1, 2))\n",
    "\n",
    "print(vectorizer_.vocabulary)"
   ]
  },
  {
   "cell_type": "code",
   "execution_count": 75,
   "metadata": {},
   "outputs": [
    {
     "name": "stdout",
     "output_type": "stream",
     "text": [
      "[0 0 0 0 0 0 0 1 1 0 0 0 0 0 0 0 0 2 0 1 0 0 0 1 0 0 0 0 0 0 0 0 0 0 0 0 0\n",
      " 0 0 0 0 1 2 0 0 0 0 4 0 0 0 3 0 0 1 2 3 0 1 0 0 1 4]\n"
     ]
    }
   ],
   "source": [
    "X_ = vectorizer_.fit_transform(documents).toarray()\n",
    "print((X_[1]))"
   ]
  },
  {
   "cell_type": "code",
   "execution_count": 76,
   "metadata": {},
   "outputs": [],
   "source": [
    "#tfidfconverter = TfidfTransformer()\n",
    "#X_ = tfidfconverter.fit_transform(X_).toarray()\n",
    "#print(X_[1])"
   ]
  },
  {
   "cell_type": "code",
   "execution_count": 77,
   "metadata": {},
   "outputs": [
    {
     "name": "stdout",
     "output_type": "stream",
     "text": [
      "{65: 0.21081851067789192, 15: 0.22360679774997894, 64: 0.24445060351935233, 52: 0.25, 54: 0.2510395055232011, 82: 0.2724746304565331, 21: 0.27279773578818944, 70: 0.27975144247209416, 16: 0.282842712474619, 32: 0.31008683647302115, 41: 0.31943828249996997, 73: 0.32659863237109044, 62: 0.34156502553198664, 79: 0.3585685828003181, 33: 0.3726779962499649, 49: 0.3795360576382948, 50: 0.4, 14: 0.4050957468334666, 11: 0.4129483209670113, 29: 0.45325006416223335, 0: 0.4751644452187054, 84: 0.4880935300919764, 20: 0.49193495504995366, 44: 0.49303180135043745, 59: 0.49852724275079074, 1: 0.5077963596336064, 39: 0.532948040099012, 47: 0.546303217058937, 40: 0.6028035277130152, 10: 0.6085806194501846}\n",
      "####################################################################################################\n",
      "{35: 0.02646280620124819, 38: 0.1346870059402947, 60: 0.16402261043504096, 37: 0.19738550848793068, 78: 0.19738550848793068, 48: 0.21821789023599236, 75: 0.2519763153394847, 7: 0.273009453115974, 5: 0.33942211665106536, 66: 0.3430925612177752, 17: 0.3624771699523123, 88: 0.363696483726654, 57: 0.3640126041546321, 2: 0.3704792868174742, 25: 0.3779644730092273, 23: 0.39322785175034114, 51: 0.39477101697586137, 3: 0.4234048992199706, 34: 0.45834924851410563, 89: 0.5066739868946863, 19: 0.5095101710852533, 76: 0.5237417843607335, 55: 0.5398861920759762, 42: 0.5580809183750252, 81: 0.5747175593066843, 43: 0.5791405068790082, 12: 0.6002842255014932, 6: 0.6302087912488812, 53: 0.6302087912488812, 74: 0.6467181814331597}\n",
      "####################################################################################################\n",
      "{45: 0.06434894520877865, 13: 0.06579516949597686, 67: 0.09759000729485334, 9: 0.12434118282549844, 56: 0.17526010166374772, 80: 0.19518001458970669, 24: 0.19738550848793068, 22: 0.2070196678027063, 61: 0.21821789023599236, 85: 0.21821789023599236, 31: 0.23970216768552732, 83: 0.2532457254658621, 69: 0.26898219492864306, 8: 0.28867513459481287, 26: 0.3346491788457354, 36: 0.363696483726654, 18: 0.3779644730092272, 4: 0.38018781261549783, 30: 0.4000661320993194, 68: 0.4270489675302974, 87: 0.4285714285714286, 28: 0.4287526810339921, 63: 0.4300329525375306, 27: 0.4919011134174627, 71: 0.4938291646584312, 46: 0.4991687442297914, 86: 0.5523060897787772, 72: 0.5684289256629115, 77: 0.6061430104032589, 58: 0.6112648394271777}\n"
     ]
    }
   ],
   "source": [
    "from scipy import spatial\n",
    "\n",
    "glosario_deportes = np.zeros(X_[0].shape)\n",
    "glosario_deportes[43:63] = 1\n",
    "glosario_politica = np.zeros(X_[0].shape)\n",
    "glosario_politica[22:43] = 1\n",
    "glosario_salud = np.zeros(X_[0].shape)\n",
    "glosario_salud[0:21] = 1\n",
    "\n",
    "result = 1 - spatial.distance.cosine(X_[4], glosario_deportes)\n",
    "#print(result)\n",
    "\n",
    "X_deportes = []\n",
    "X_politica = []\n",
    "X_salud = []\n",
    "cosine_distance_deporte = {}\n",
    "cosine_distance_politica = {}\n",
    "cosine_distance_salud = {}\n",
    "\n",
    "for i in range(90):\n",
    "    if y[i] == 0:\n",
    "        X_deportes.append(X_[i])\n",
    "        cosine_distance_deporte[i] = 1 - spatial.distance.cosine(glosario_deportes,X_[i])\n",
    "        \n",
    "    elif y[i] == 1:\n",
    "        X_politica.append(X_[i])\n",
    "        cosine_distance_politica[i] = 1 - spatial.distance.cosine(glosario_politica,X_[i])\n",
    "        \n",
    "    else:\n",
    "        X_salud.append(X_[i])\n",
    "        cosine_distance_salud[i] = 1 - spatial.distance.cosine(glosario_salud,X_[i])\n",
    "    \n",
    "\n",
    "cosine_distance_deporte  = {k: v for k, v in sorted(cosine_distance_deporte.items(), key=lambda item: item[1])}\n",
    "cosine_distance_politica = {k: v for k, v in sorted(cosine_distance_politica.items(), key=lambda item: item[1])}\n",
    "cosine_distance_salud = {k: v for k, v in sorted(cosine_distance_salud.items(), key=lambda item: item[1])}\n",
    "\n",
    "\n",
    "print(cosine_distance_deporte)\n",
    "print('####################################################################################################')\n",
    "print(cosine_distance_politica)\n",
    "print('####################################################################################################')\n",
    "print(cosine_distance_salud)\n",
    "    \n",
    "  "
   ]
  },
  {
   "cell_type": "code",
   "execution_count": 78,
   "metadata": {},
   "outputs": [
    {
     "name": "stdout",
     "output_type": "stream",
     "text": [
      "           0\n",
      "35  0.026463\n",
      "38  0.134687\n",
      "60  0.164023\n",
      "37  0.197386\n",
      "78  0.197386\n",
      "48  0.218218\n",
      "75  0.251976\n",
      "7   0.273009\n",
      "5   0.339422\n",
      "66  0.343093\n",
      "17  0.362477\n",
      "88  0.363696\n",
      "57  0.364013\n",
      "2   0.370479\n",
      "25  0.377964\n",
      "23  0.393228\n",
      "51  0.394771\n",
      "3   0.423405\n",
      "34  0.458349\n",
      "89  0.506674\n",
      "19  0.509510\n",
      "76  0.523742\n",
      "55  0.539886\n",
      "42  0.558081\n",
      "81  0.574718\n",
      "43  0.579141\n",
      "12  0.600284\n",
      "6   0.630209\n",
      "53  0.630209\n",
      "74  0.646718\n"
     ]
    }
   ],
   "source": [
    "cosine_distance_politica = pd.DataFrame.from_dict(cosine_distance_politica,orient='index')\n",
    "print(cosine_distance_politica)"
   ]
  },
  {
   "cell_type": "code",
   "execution_count": 79,
   "metadata": {},
   "outputs": [
    {
     "name": "stdout",
     "output_type": "stream",
     "text": [
      "45\n",
      "45\n",
      "45\n",
      "45\n"
     ]
    }
   ],
   "source": [
    "X_train, X_test, y_train, y_test = train_test_split(X_, y, test_size=0.5, random_state=0)\n",
    "print(len(X_train))\n",
    "print(len(X_test))\n",
    "print(len(y_train))\n",
    "print(len(y_test))"
   ]
  },
  {
   "cell_type": "code",
   "execution_count": 80,
   "metadata": {},
   "outputs": [
    {
     "name": "stdout",
     "output_type": "stream",
     "text": [
      "[1 2 0 1 2 0 1 1 0 0 2 1 1 2 0 0 1 0 2 1 0 0 2 1 2 0 0 2 1 1 2 0 0 2 1 0 2\n",
      " 0 2 2 2 2 0 0 0]\n",
      "[1 2 1 0 1 2 2 1 1 1 1 2 0 2 2 0 2 2 2 1 2 1 2 1 2 0 0 0 0 1 0 1 2 2 0 1 1\n",
      " 0 1 2 0 1 0 1 1]\n"
     ]
    }
   ],
   "source": [
    "print(y_train)\n",
    "print(y_test)"
   ]
  },
  {
   "cell_type": "code",
   "execution_count": 84,
   "metadata": {},
   "outputs": [
    {
     "name": "stdout",
     "output_type": "stream",
     "text": [
      "Acuraccy : 0.8666666666666667\n",
      "Error: 0.1333333333333333\n"
     ]
    },
    {
     "data": {
      "text/plain": [
       "array([1.        , 0.94444444, 0.66666667])"
      ]
     },
     "execution_count": 84,
     "metadata": {},
     "output_type": "execute_result"
    }
   ],
   "source": [
    "classifier = LinearSVC()\n",
    "classifier.fit(X_train, y_train) \n",
    "y_pred = classifier.predict(X_test)\n",
    "print('Acuraccy :',accuracy_score(y_test, y_pred))\n",
    "print('Error:',1-accuracy_score(y_test, y_pred))\n",
    "#print(classifier.predict_proba(X_test))\n",
    "#print(classification_report(y_test, y_pred))\n",
    "matrix = confusion_matrix(y_test, y_pred)\n",
    "matrix.diagonal()/matrix.sum(axis=1)"
   ]
  },
  {
   "cell_type": "code",
   "execution_count": 85,
   "metadata": {},
   "outputs": [
    {
     "name": "stdout",
     "output_type": "stream",
     "text": [
      "Acuraccy : 0.8\n",
      "Error: 0.19999999999999996\n"
     ]
    },
    {
     "data": {
      "text/plain": [
       "array([1.        , 0.72222222, 0.73333333])"
      ]
     },
     "execution_count": 85,
     "metadata": {},
     "output_type": "execute_result"
    }
   ],
   "source": [
    "classifier = KNeighborsClassifier(5)\n",
    "classifier.fit(X_train, y_train) \n",
    "y_pred = classifier.predict(X_test)\n",
    "print('Acuraccy :',accuracy_score(y_test, y_pred))\n",
    "print('Error:',1-accuracy_score(y_test, y_pred))\n",
    "#print(classifier.predict_proba(X_test))\n",
    "#print(classification_report(y_test, y_pred))\n",
    "matrix = confusion_matrix(y_test, y_pred)\n",
    "matrix.diagonal()/matrix.sum(axis=1)"
   ]
  },
  {
   "cell_type": "code",
   "execution_count": 86,
   "metadata": {},
   "outputs": [
    {
     "name": "stdout",
     "output_type": "stream",
     "text": [
      "Acuraccy : 0.8888888888888888\n",
      "Error: 0.11111111111111116\n"
     ]
    },
    {
     "data": {
      "text/plain": [
       "array([1.        , 1.        , 0.66666667])"
      ]
     },
     "execution_count": 86,
     "metadata": {},
     "output_type": "execute_result"
    }
   ],
   "source": [
    "classifier = MultinomialNB()\n",
    "classifier.fit(X_train, y_train) \n",
    "y_pred = classifier.predict(X_test)\n",
    "print('Acuraccy :',accuracy_score(y_test, y_pred))\n",
    "print('Error:',1-accuracy_score(y_test, y_pred))\n",
    "#print(classifier.predict_proba(X_test))\n",
    "#print(classification_report(y_test, y_pred))\n",
    "matrix = confusion_matrix(y_test, y_pred)\n",
    "matrix.diagonal()/matrix.sum(axis=1)"
   ]
  },
  {
   "cell_type": "markdown",
   "metadata": {},
   "source": [
    "# Ordenador por carpetas\n"
   ]
  },
  {
   "cell_type": "code",
   "execution_count": 36,
   "metadata": {},
   "outputs": [],
   "source": [
    "#os.rename(\"path/to/current/file.foo\", \"path/to/new/destination/for/file.foo\")\n",
    "#shutil.move(\"path/to/current/file.foo\", \"path/to/new/destination/for/file.foo\")\n",
    "#os.replace(\"path/to/current/file.foo\", \"path/to/new/destination/for/file.foo\""
   ]
  },
  {
   "cell_type": "code",
   "execution_count": 47,
   "metadata": {},
   "outputs": [],
   "source": [
    "def load_documents(filenames):\n",
    "    documents = []\n",
    "    for i in filenames:\n",
    "        file_document = open(i,'r',encoding='utf-8')\n",
    "        documents.append(file_document.read().split())\n",
    "    \n",
    "    return documents"
   ]
  },
  {
   "cell_type": "code",
   "execution_count": 48,
   "metadata": {},
   "outputs": [],
   "source": [
    "shutil.rmtree('./Pruebas/deporte')\n",
    "shutil.rmtree('./Pruebas/politica')\n",
    "shutil.rmtree('./Pruebas/salud')\n",
    "\n",
    "filenames_documents = glob.glob('./Pruebas/*')\n",
    "documentos = load_documents(filenames_documents)\n",
    "\n",
    "\n",
    "documents = []\n",
    "for d in range(0, len(documentos)):\n",
    "    document = re.sub(r'\\W', ' ', str(documentos[d]))\n",
    "    document = document.lower()\n",
    "    documents.append(document)\n",
    "\n",
    "\n",
    "vectorizer_ = CountVectorizer(vocabulary = glosario,ngram_range=(1, 2))\n",
    "\n",
    "X = vectorizer_.fit_transform(documents).toarray()\n",
    "\n",
    "predictions = classifier.predict(X)\n",
    "\n",
    "os.mkdir(\"./Pruebas/deporte/\")\n",
    "os.mkdir(\"./Pruebas/politica/\")\n",
    "os.mkdir(\"./Pruebas/salud/\")\n",
    "\n",
    "for prediction,filename in zip(predictions,filenames_documents):    \n",
    "    if prediction == 0:\n",
    "        shutil.copyfile(\"./Pruebas/\"+filename[10:], \"./Pruebas/deporte/\"+filename[10:])\n",
    "    elif prediction == 1:    \n",
    "         shutil.copyfile(\"./Pruebas/\"+filename[10:], \"./Pruebas/politica/\"+filename[10:])\n",
    "    else:\n",
    "        shutil.copyfile(\"./Pruebas/\"+filename[10:], \"./Pruebas/salud/\"+filename[10:])\n"
   ]
  },
  {
   "cell_type": "code",
   "execution_count": null,
   "metadata": {},
   "outputs": [],
   "source": []
  }
 ],
 "metadata": {
  "kernelspec": {
   "display_name": "Python 3",
   "language": "python",
   "name": "python3"
  },
  "language_info": {
   "codemirror_mode": {
    "name": "ipython",
    "version": 3
   },
   "file_extension": ".py",
   "mimetype": "text/x-python",
   "name": "python",
   "nbconvert_exporter": "python",
   "pygments_lexer": "ipython3",
   "version": "3.8.3"
  }
 },
 "nbformat": 4,
 "nbformat_minor": 4
}
